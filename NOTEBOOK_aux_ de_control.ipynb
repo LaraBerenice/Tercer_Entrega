{
 "cells": [
  {
   "cell_type": "code",
   "execution_count": 2,
   "metadata": {},
   "outputs": [
    {
     "name": "stdout",
     "output_type": "stream",
     "text": [
      "correcto es igual a 200\n",
      "         FechaConsulta   temp  feels_like  temp_min  temp_max  pressure  \\\n",
      "0  2023-08-14 13:36:25  24.42       23.73     22.99     24.42      1015   \n",
      "\n",
      "   humidity  \n",
      "0        31  \n"
     ]
    }
   ],
   "source": [
    "import psycopg2\n",
    "import pandas as pd\n",
    "from datetime import datetime\n",
    "import json\n",
    "import configparser\n",
    "import sqlalchemy as sa\n",
    "import requests\n",
    "\n",
    "ruta_Archivo = \"C:\\\\Users\\\\Josué Ledesma\\\\Desktop\\\\DATA ENGGENIER\\\\ENTREGAS - Ledesma_Lara_ Berenice\\\\API  2 Practicando ---\\\\parametros_API2.json\"\n",
    "\n",
    "url_base = \"https://api.openweathermap.org/data/2.5/weather\"\n",
    "\n",
    "#\"https://api.weatherbit.io/v2.0/forecast/agweather\" (API1 ANTERIOR)\n",
    "\n",
    "\n",
    "with open(ruta_Archivo) as f:\n",
    "    Parametros = json.load(f)\n",
    "\n",
    "# PEDIDO DE INFORMACION Y dataframe : -----------------------------------\n",
    "\n",
    "RESPUESTA = requests.get(url_base, params=Parametros)\n",
    "\n",
    "if RESPUESTA.status_code == 200:\n",
    "    print(\"correcto es igual a 200\")\n",
    "else:\n",
    "    print(f\"no es correcto es igual a {RESPUESTA.status_code}\")\n",
    "\n",
    "\n",
    "# TRANSFORMACION DE DATOS:\n",
    "\n",
    "data_json = RESPUESTA.json()\n",
    "\n",
    "data = data_json[\"main\"]\n",
    "\n",
    "fecha_actual = datetime.now().strftime('%Y-%m-%d %H:%M:%S')\n",
    "\n",
    "# Crear una lista de diccionarios con la nueva columna \"FechaConsulta\"\n",
    "data_con_fecha = [{\"FechaConsulta\": fecha_actual, **data}]\n",
    "\n",
    "# Crear un DataFrame a partir de la lista de diccionarios\n",
    "datos = pd.DataFrame(data_con_fecha)\n",
    "\n",
    "print(datos)\n"
   ]
  },
  {
   "cell_type": "code",
   "execution_count": 3,
   "metadata": {},
   "outputs": [
    {
     "name": "stdout",
     "output_type": "stream",
     "text": [
      "FechaConsulta     object\n",
      "temp             float64\n",
      "feels_like       float64\n",
      "temp_min         float64\n",
      "temp_max         float64\n",
      "pressure           int64\n",
      "humidity           int64\n",
      "dtype: object\n"
     ]
    }
   ],
   "source": [
    "tipos_de_datos = datos.dtypes\n",
    "\n",
    "print(tipos_de_datos)"
   ]
  }
 ],
 "metadata": {
  "kernelspec": {
   "display_name": "Python 3",
   "language": "python",
   "name": "python3"
  },
  "language_info": {
   "codemirror_mode": {
    "name": "ipython",
    "version": 3
   },
   "file_extension": ".py",
   "mimetype": "text/x-python",
   "name": "python",
   "nbconvert_exporter": "python",
   "pygments_lexer": "ipython3",
   "version": "3.11.4"
  },
  "orig_nbformat": 4
 },
 "nbformat": 4,
 "nbformat_minor": 2
}
