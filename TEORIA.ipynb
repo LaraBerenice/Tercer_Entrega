{
 "cells": [
  {
   "cell_type": "markdown",
   "metadata": {},
   "source": [
    "**¿QUE ES UNA API?**\n",
    "\n",
    "Un intermediario o interfaz entre sistemas y aplicaciones.\n",
    "reglas y protocolos que permiten que diferentes aplicaciones y sistemas se comuniquen entre sí. Es una interfaz que especifica cómo diferentes componentes de software deben interactuar y compartir datos, funciones y servicios. \n",
    "\n",
    "Las API se utilizan ampliamente en el desarrollo de software para facilitar la integración entre diferentes sistemas.\n",
    "\n",
    "En resumen, las API son puentes de comunicación que permiten que diferentes aplicaciones y servicios se conecten y trabajen juntos de manera eficiente. \n",
    "\n",
    "SOLICITAR DATOS, ENVIAR DATOS O INSTRUCCIONES Y/O ACCEDER A FUNCIONALIDADES.\n",
    "\n",
    " - los recursos se llaman ENPOINTS\n",
    "\n",
    "    *  **GET -- trae datos **\n",
    "    *  ** POST-- envia y crea datos **\n",
    "    * PUT -- Actualizar \n",
    "    * DELETE --- borrar\n",
    "\n"
   ]
  },
  {
   "cell_type": "markdown",
   "metadata": {},
   "source": [
    " status.code \n",
    " - 200 = correcto\n",
    " - 400 = mi codigo esta mal\n",
    " - 500 = error del servidor "
   ]
  },
  {
   "cell_type": "markdown",
   "metadata": {},
   "source": [
    "#cada Api es distinta y hay que leer la documentacion para saber bien como hacer las peticiones"
   ]
  },
  {
   "cell_type": "markdown",
   "metadata": {},
   "source": [
    "**dato curioso**\n",
    "\n",
    "Utilizar nombres de tablas en minúsculas es una práctica estándar en Redshift y en muchos sistemas de bases de datos para evitar problemas relacionados con la sensibilidad a las mayúsculas y minúsculas. Esto ayuda a prevenir conflictos y asegura que los nombres de las tablas sean interpretados de manera uniforme, independientemente de cómo se definieron originalmente. \n",
    "\n",
    "Mantener los nombres de tablas con mayúsculas por razones de legibilidad o consistencia con otros sistemas, podrías explorar la opción de realizar conversiones de mayúsculas a minúsculas en tus consultas SQL, utilizando funciones como  LOWER(). Sin embargo, esta solución puede ser menos eficiente y más propensa a errores en comparación con la solución de utilizar nombres de tablas en minúsculas desde el principio. \n",
    "\n",
    "En resumen, la solución de utilizar nombres de tablas en minúsculas en todo tu código y consultas SQL es la manera más sólida y recomendada de abordar este problema y asegurar que tus operaciones en la base de datos Redshift funcionen sin problemas."
   ]
  },
  {
   "cell_type": "markdown",
   "metadata": {},
   "source": [
    "***tabla staging*** \n",
    "\n",
    "Una tabla de staging (o tabla de preparación) es una estructura de base de datos utilizada para almacenar temporalmente datos antes de que sean procesados, transformados y cargados en su ubicación final en un sistema de almacenamiento o base de datos. Este proceso es común en la integración de datos, especialmente en el contexto de la extracción, transformación y carga \n",
    "\n",
    "Aquí hay un desglose de los pasos involucrados: \n",
    "\n",
    "    Extracción (Extract) : Los datos se extraen de diversas fuentes, como bases de datos, archivos planos, hojas de cálculo, API web, etc. \n",
    "\n",
    "    Transformación (Transform) : Los datos extraídos se someten a procesos de limpieza, validación, enriquecimiento y transformación para garantizar que cumplan con los requisitos y formatos deseados. Esto puede incluir cambios de formato, cálculos, combinación de datos de diferentes fuentes y otras operaciones. \n",
    "\n",
    "    Carga (Load) : Después de la transformación, los datos se cargan en la tabla de staging en la base de datos. Esta tabla de staging generalmente tiene una estructura que permite acomodar datos crudos o semi-procesados, y suele ser menos optimizada en términos de rendimiento que las tablas finales. \n",
    "\n",
    "    Carga Final (Final Load) : Una vez que los datos se han transformado y validado adecuadamente en la tabla de staging, se pueden cargar en las tablas finales que se utilizan para análisis, informes u otras aplicaciones. Este proceso implica mover los datos de la tabla de staging a su ubicación final. \n",
    "\n",
    "La tabla de staging es importante ya que permite a los analistas y desarrolladores verificar, corregir y validar los datos antes de cargarlos en las tablas finales, evitando la contaminación de datos incorrectos o incompletos en la base de datos principal. También facilita la detección de errores en las etapas tempranas del proceso ETL. \n",
    "\n",
    "En resumen, una tabla de staging es una estructura temporal que juega un papel fundamental en el proceso de integración y gestión de datos, asegurando la calidad y la integridad de los datos antes de que sean utilizados para análisis y toma de decisiones. "
   ]
  }
 ],
 "metadata": {
  "language_info": {
   "name": "python"
  },
  "orig_nbformat": 4
 },
 "nbformat": 4,
 "nbformat_minor": 2
}
